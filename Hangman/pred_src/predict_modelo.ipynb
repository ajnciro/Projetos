{
 "cells": [
  {
   "cell_type": "code",
   "execution_count": 1,
   "id": "efecda1f-baf4-49ce-8ea6-d214d127d771",
   "metadata": {},
   "outputs": [],
   "source": [
    "import pandas as pd\n",
    "from pymongo import MongoClient\n",
    "from keras.preprocessing.text import Tokenizer\n",
    "tokenizer = Tokenizer()\n",
    "from sklearn.model_selection import train_test_split\n",
    "from sklearn.metrics import classification_report, confusion_matrix\n",
    "from sklearn.tree import DecisionTreeClassifier\n",
    "import warnings; warnings.simplefilter('ignore')\n",
    "import pickle\n",
    "\n",
    "def flatten (lst):\n",
    "    return [el for sub in lst for el in sub]"
   ]
  },
  {
   "cell_type": "code",
   "execution_count": 2,
   "id": "a284e96d-7bac-4fc8-8e54-c3d422212500",
   "metadata": {},
   "outputs": [],
   "source": [
    "conn = MongoClient('localhost', 27017)\n",
    "db = conn.forca_ia\n",
    "collection = db.verbetes"
   ]
  },
  {
   "cell_type": "code",
   "execution_count": 3,
   "id": "6d75ca70-f07b-4dc7-a477-06fa7dd89bff",
   "metadata": {},
   "outputs": [],
   "source": [
    "df = pd.DataFrame(list(collection.find()))\n",
    "#df =  df[:1000]\n",
    "\n",
    "lis = [el for el in flatten(df['fill_word']) if el[-1] not in el[1] if \"_\" in el[1]]"
   ]
  },
  {
   "cell_type": "code",
   "execution_count": 4,
   "id": "23972e0f-a0de-48f1-a05f-e216417a7ef2",
   "metadata": {},
   "outputs": [],
   "source": [
    "df2 = pd.DataFrame(lis, columns = [\"isTrue\", \"bef_pattern\", \"aft_pattern\", \"letter_choice\"])\n",
    "#df2 = df2[:150000]\n",
    "\n",
    "y = df2['isTrue']\n",
    "x = [df2['bef_pattern'].iloc[lin]+\", \"+df2['letter_choice'].iloc[lin] for lin in range(len(y))]"
   ]
  },
  {
   "cell_type": "code",
   "execution_count": 5,
   "id": "7a449e72-6f19-4cfc-8b8b-777e1a722c8f",
   "metadata": {},
   "outputs": [],
   "source": [
    "with open(\"x_list2\", \"wb\") as file:\n",
    "    pickle.dump(x, file)\n",
    "    file.close()"
   ]
  },
  {
   "cell_type": "code",
   "execution_count": null,
   "id": "4857f1b0-0229-4149-9c0f-77da1a936ec2",
   "metadata": {},
   "outputs": [],
   "source": []
  },
  {
   "cell_type": "code",
   "execution_count": 6,
   "id": "f5eed3f4-7113-4e46-8ed0-a1aa4d866dcb",
   "metadata": {},
   "outputs": [],
   "source": [
    "tokenizer = Tokenizer(lower = False, filters=' ', char_level=False, split=',')\n",
    "tokenizer.fit_on_texts(x)\n",
    "tok1 = tokenizer.texts_to_sequences(x)\n",
    "tok_df = pd.DataFrame(data = tok1).fillna(0.0)\n",
    "\n",
    "y.to_pickle('Y2.pkl')\n",
    "tok_df.to_pickle('X2.pkl')"
   ]
  },
  {
   "cell_type": "code",
   "execution_count": 8,
   "id": "527c2de6-c8e3-4f42-a97a-2d230cc88241",
   "metadata": {},
   "outputs": [],
   "source": [
    "y = pd.read_pickle('Y2.pkl')\n",
    "x = pd.read_pickle('X2.pkl')"
   ]
  },
  {
   "cell_type": "code",
   "execution_count": 9,
   "id": "255480b9-ce8b-4868-b08a-9b8007b3b5f6",
   "metadata": {},
   "outputs": [],
   "source": [
    "X_train, X_test, Y_train, Y_test = train_test_split(x, y, test_size = 0.3)"
   ]
  },
  {
   "cell_type": "code",
   "execution_count": 10,
   "id": "3d4c3982-18ec-4153-a451-63823d806dd8",
   "metadata": {},
   "outputs": [],
   "source": [
    "dtree = DecisionTreeClassifier()\n",
    "dtree.fit(X_train, Y_train)\n",
    "dtree_pred = dtree.predict(X_test)"
   ]
  },
  {
   "cell_type": "code",
   "execution_count": 11,
   "id": "d5a2184a-90b3-4ef6-957e-5d3cd0e82451",
   "metadata": {},
   "outputs": [
    {
     "name": "stdout",
     "output_type": "stream",
     "text": [
      "              precision    recall  f1-score   support\n",
      "\n",
      "       False       0.97      0.98      0.97   3090887\n",
      "        True       0.90      0.86      0.88    733915\n",
      "\n",
      "    accuracy                           0.95   3824802\n",
      "   macro avg       0.93      0.92      0.93   3824802\n",
      "weighted avg       0.95      0.95      0.95   3824802\n",
      "\n",
      "\n",
      "\n",
      "[[3017285   73602]\n",
      " [ 101187  632728]]\n"
     ]
    }
   ],
   "source": [
    "print(classification_report(Y_test, dtree_pred))\n",
    "print('\\n')\n",
    "print(confusion_matrix(Y_test, dtree_pred))"
   ]
  },
  {
   "cell_type": "code",
   "execution_count": null,
   "id": "5a8f8b3c-9e44-4afd-b376-267f4add30b8",
   "metadata": {},
   "outputs": [
    {
     "name": "stdout",
     "output_type": "stream",
     "text": [
      "Modelo salvo.\n"
     ]
    }
   ],
   "source": [
    "\n",
    "with open(\"dtree2b.pickle\", \"wb\") as file:\n",
    "    pickle.dump(dtree, file)\n",
    "    file.close()\n",
    "print (\"Modelo salvo.\")\n",
    "\n",
    "with open('dtree2b.pickle', \"rb\") as file:\n",
    "    dtree = pickle.load(file)\n",
    "    file.close()\n",
    "\n",
    "dtree_pred = dtree.predict(X_test)\n",
    "print(classification_report(Y_test, dtree_pred))\n",
    "print('\\n')\n",
    "print(confusion_matrix(Y_test, dtree_pred))\n"
   ]
  },
  {
   "cell_type": "code",
   "execution_count": null,
   "id": "b38cef3e-6d5a-4103-9fe6-9f4d2b386c89",
   "metadata": {},
   "outputs": [],
   "source": [
    "random.c"
   ]
  }
 ],
 "metadata": {
  "kernelspec": {
   "display_name": "Python 3",
   "language": "python",
   "name": "python3"
  },
  "language_info": {
   "codemirror_mode": {
    "name": "ipython",
    "version": 3
   },
   "file_extension": ".py",
   "mimetype": "text/x-python",
   "name": "python",
   "nbconvert_exporter": "python",
   "pygments_lexer": "ipython3",
   "version": "3.8.8"
  }
 },
 "nbformat": 4,
 "nbformat_minor": 5
}
