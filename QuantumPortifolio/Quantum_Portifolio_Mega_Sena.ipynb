{
  "cells": [
    {
      "cell_type": "markdown",
      "metadata": {
        "id": "ObkdKaNAGvpo"
      },
      "source": [
        "Contato: ciro@mail.org"
      ]
    },
    {
      "cell_type": "markdown",
      "metadata": {
        "id": "Yknbj49u9NbR"
      },
      "source": [
        "# Visão geral do problema e do QAOA\n",
        "\n"
      ]
    },
    {
      "cell_type": "markdown",
      "metadata": {
        "id": "bGWgNom09RSF"
      },
      "source": [
        "## 1. Otimização de portfólio\n",
        "\n",
        "A tarefa de otimizar um portfólio pode ser formulada como maximizar retornos (ou minimizar custos equivalentes) sob certas restrições, como:\n",
        "\n",
        "Limite no número de ativos que podemos escolher (budget).\n",
        "Limite de investimentos simultâneos (max_investments).\n",
        "Penalizar a correlação (risco) entre os ativos (quanto maior a correlação entre dois ativos que escolhemos simultaneamente, maior o risco).\n",
        "Em termos matemáticos, podemos representar essa tarefa por meio de uma função objetivo que deve ser minimizada ou maximizada e restrições lineares/inteiras (e.g., número máximo de ativos). Quando falamos de QAOA, transformamos esse problema em um modelo quadrático binário (Quadratic Program), em que cada ativo pode ser selecionado (x_i = 1) ou não (x_i = 0)."
      ]
    },
    {
      "cell_type": "markdown",
      "metadata": {
        "id": "AkgehWgl_I31"
      },
      "source": [
        "## 2. QAOA (Quantum Approximate Optimization Algorithm)\n",
        "\n",
        "O QAOA é um algoritmo quântico variacional projetado para resolver problemas de otimização combinatória. De forma simplificada:\n",
        "\n",
        "### **2.1 Cost Hamiltonian (Hc)**: representa a função objetivo que desejamos minimizar. No problema de portfólio, é construída a partir do “retorno” (com sinal negativo para minimizar custos e maximizar lucros) e das correlações (que adicionam termos quadráticos).\n",
        "\n",
        "### **2.2 Mixer Hamiltonian (Hm)**: responsável por “explorar” os possíveis estados no espaço de busca. Usualmente, ele é definido como a soma de operadores X (rotação em torno do eixo X) em cada qubit, incentivando transições entre\n",
        "∣0⟩ e ∣1⟩.\n",
        "\n",
        "### **2.3 Camadas QAOA**: para um número p de repetições, aplica-se alternadamente a evolução unidimensional pelo Cost Hamiltonian e depois pelo Mixer Hamiltonian. As durações desses blocos (ou ângulos de rotação) são parâmetros variacionais (γ e β) que o algoritmo (geralmente um otimizador clássico) vai ajustando."
      ]
    },
    {
      "cell_type": "markdown",
      "metadata": {
        "id": "Dp9-UZKj_KYg"
      },
      "source": [
        "## 3. Interpretação do resultado\n",
        "\n",
        "No final, medimos o estado quântico resultante e, a partir das distribuições de 0s e 1s nos qubits, encontramos a solução do problema. Em Qiskit, o MinimumEigenOptimizer utiliza a saída de um “minimum eigen solver” (no caso, o QAOA) para determinar a melhor atribuição binária para as variáveis."
      ]
    },
    {
      "cell_type": "markdown",
      "metadata": {
        "id": "SIbkKAtY_cCg"
      },
      "source": [
        "# Resolvendo Classicamente"
      ]
    },
    {
      "cell_type": "markdown",
      "metadata": {
        "id": "XsYR2KBd_lac"
      },
      "source": [
        "- Utiliza métodos determinísticos (ou heurísticos).\n",
        "\n",
        "- Depende de simplificações para tornar o problema resolvível em tempo prático.\n",
        "\n",
        "- Pode ser menos eficiente para grandes problemas quadráticos, mas é direto e amplamente aplicável."
      ]
    },
    {
      "cell_type": "code",
      "execution_count": 1,
      "metadata": {
        "id": "TA0vjNUM76aM"
      },
      "outputs": [],
      "source": [
        "import numpy as np\n",
        "from scipy.optimize import linprog\n",
        "\n",
        "def optimize_portfolio_classical(returns, correlations, budget, max_investments):\n",
        "    \"\"\"\n",
        "    Otimiza um portfólio de investimentos usando métodos clássicos.\n",
        "\n",
        "    Parâmetros:\n",
        "        returns (dict): Retornos esperados das ações, e.g., {'A': 0.4, 'B': 0.55, 'C': 0.45}.\n",
        "        correlations (dict): Correlações entre pares de ações, e.g., {('B', 'C'): 0.2}.\n",
        "        budget (int): Número máximo de ações que podem ser escolhidas.\n",
        "        max_investments (int): Número máximo de investimentos simultâneos permitidos.\n",
        "\n",
        "    Retorna:\n",
        "        dict: Decisões de investimento otimizadas.\n",
        "    \"\"\"\n",
        "    stocks = list(returns.keys())\n",
        "    n = len(stocks)\n",
        "\n",
        "    # Função objetivo: minimizar -retornos + penalização por correlação\n",
        "    c = np.zeros(n)\n",
        "    for i, stock in enumerate(stocks):\n",
        "        c[i] = -returns[stock]  # Minimizar -retornos (maximizar retornos)\n",
        "\n",
        "    # Matriz de penalização de correlações\n",
        "    Q = np.zeros((n, n))\n",
        "    for (stock1, stock2), correlation in correlations.items():\n",
        "        i, j = stocks.index(stock1), stocks.index(stock2)\n",
        "        Q[i, j] = correlation\n",
        "        Q[j, i] = correlation  # Simétrica\n",
        "\n",
        "    # Linearizar o problema quadrático: f(x) = c @ x + x.T @ Q @ x\n",
        "    # Expandir para incluir a parte quadrática\n",
        "    c += Q.sum(axis=1)\n",
        "\n",
        "    # Restrições\n",
        "    # 1. Orçamento (número total de ações <= budget)\n",
        "    A = np.ones((1, n))\n",
        "    b = [budget]\n",
        "\n",
        "    # 2. Máximo de investimentos simultâneos (soma dos escolhidos <= max_investments)\n",
        "    A = np.vstack([A, np.ones((1, n))])\n",
        "    b.append(max_investments)\n",
        "\n",
        "    # Limites binários (0 ou 1)\n",
        "    bounds = [(0, 1) for _ in range(n)]\n",
        "\n",
        "    # Resolver o problema\n",
        "    result = linprog(c, A_ub=A, b_ub=b, bounds=bounds, method=\"highs\")\n",
        "\n",
        "    # Converter resultados\n",
        "    if result.success:\n",
        "        decision = {stocks[i]: int(round(x)) for i, x in enumerate(result.x)}\n",
        "        return decision\n",
        "    else:\n",
        "        raise ValueError(\"Problema não foi resolvido com sucesso.\")"
      ]
    },
    {
      "cell_type": "code",
      "execution_count": 2,
      "metadata": {
        "colab": {
          "base_uri": "https://localhost:8080/"
        },
        "id": "426w4nMR8Yiz",
        "outputId": "55dbeb82-6068-4568-99ec-090d0eb2a8bf"
      },
      "outputs": [
        {
          "name": "stdout",
          "output_type": "stream",
          "text": [
            "Solução encontrada: {'A': 0, 'B': 1, 'C': 1, 'D': 1}\n"
          ]
        }
      ],
      "source": [
        "# Exemplo de uso\n",
        "\n",
        "# Parâmetros do problema\n",
        "returns = {'A': 0.4, 'B': 0.55, 'C': 0.45, 'D': 0.6}  # retorno da ação: A = 40%\n",
        "correlations = {('B', 'C'): 0.2, ('A', 'D'): 0.3}\n",
        "budget = 3  # orçamento (quantidade máxima de ações a serem escolhidas)\n",
        "max_investments = 3  # máximo de investimentos simultâneos\n",
        "\n",
        "# Resolver o problema\n",
        "solution = optimize_portfolio_classical(returns, correlations, budget, max_investments)\n",
        "\n",
        "# Exibir o resultado\n",
        "print(\"Solução encontrada:\", solution)"
      ]
    },
    {
      "cell_type": "markdown",
      "metadata": {
        "id": "ku5sjVfSAQKJ"
      },
      "source": [
        "# Solução com Computação Quântica"
      ]
    },
    {
      "cell_type": "markdown",
      "metadata": {
        "id": "aFTBVAc2AVAj"
      },
      "source": [
        "- Explora o espaço de soluções utilizando propriedades de sobreposição e entrelaçamento.\n",
        "\n",
        "- Pode ser útil para problemas altamente complexos e não convexos."
      ]
    },
    {
      "cell_type": "markdown",
      "metadata": {
        "id": "lEIhjWiVAgsb"
      },
      "source": [
        "## Instalando as dependências necessárias"
      ]
    },
    {
      "cell_type": "code",
      "execution_count": 3,
      "metadata": {
        "id": "GNDA6Sg-_y9j"
      },
      "outputs": [],
      "source": [
        "!pip install -q qiskit==0.36.0 qiskit_optimization==0.3.1 pylatexenc"
      ]
    },
    {
      "cell_type": "markdown",
      "metadata": {
        "id": "p38zh0XYAoIp"
      },
      "source": [
        "## Visualizando o Problema"
      ]
    },
    {
      "cell_type": "code",
      "execution_count": 4,
      "metadata": {
        "colab": {
          "base_uri": "https://localhost:8080/",
          "height": 365
        },
        "id": "x9Eh2QsamrCe",
        "outputId": "7297adc4-444d-4adc-de96-0e9bb4ea4987"
      },
      "outputs": [
        {
          "name": "stdout",
          "output_type": "stream",
          "text": [
            "     ┌─────────┐┌─────────────┐┌─────────────┐┌─────────────┐┌─────────────┐»\n",
            "q_0: ┤ U2(0,π) ├┤0            ├┤0            ├┤0            ├┤0            ├»\n",
            "     ├─────────┤│  exp(it IZ) ││  exp(it ZI) ││  exp(it ZZ) ││  exp(it XI) │»\n",
            "q_1: ┤ U2(0,π) ├┤1            ├┤1            ├┤1            ├┤1            ├»\n",
            "     └─────────┘└─────────────┘└─────────────┘└─────────────┘└─────────────┘»\n",
            "«     ┌─────────────┐\n",
            "«q_0: ┤0            ├\n",
            "«     │  exp(it IX) │\n",
            "«q_1: ┤1            ├\n",
            "«     └─────────────┘\n"
          ]
        },
        {
          "data": {
            "image/png": "[encoded data removed]",
            "text/plain": [
              "<Figure size 1039.79x200.667 with 1 Axes>"
            ]
          },
          "execution_count": 4,
          "metadata": {},
          "output_type": "execute_result"
        }
      ],
      "source": [
        "from qiskit_optimization import QuadraticProgram\n",
        "from qiskit_optimization.converters import QuadraticProgramToQubo\n",
        "from qiskit_optimization.translators import to_ising\n",
        "from qiskit.algorithms import QAOA\n",
        "from qiskit import Aer\n",
        "import numpy as np\n",
        "\n",
        "# 1) QuadraticProgram de exemplo\n",
        "qp = QuadraticProgram()\n",
        "\n",
        "# Duas variáveis binárias: x0, x1\n",
        "x0 = qp.binary_var(name='x0')\n",
        "x1 = qp.binary_var(name='x1')\n",
        "\n",
        "# Exemplo de função objetivo: minimize -(x0 + 2*x1) + 1.5*x0*x1\n",
        "#    --> Equivalente a maximizar (x0 + 2*x1) - penalizar 1.5 se ambos forem 1\n",
        "qp.minimize(linear={'x0': -1, 'x1': -2},\n",
        "            quadratic={('x0', 'x1'): 1.5})\n",
        "\n",
        "# Adiciona uma restrição simples, por exemplo x0 + x1 <= 1\n",
        "qp.linear_constraint({'x0': 1, 'x1': 1}, '<=', 1, 'budget_constraint')\n",
        "\n",
        "qubo_problem = QuadraticProgramToQubo().convert(qp) # O QAOA espera um PauliSumOp (ou algum objeto OperatorBase) que descreva o Hamiltoniano do problema\n",
        "\n",
        "# Converte QUBO em Ising Operator\n",
        "op, offset = to_ising(qubo_problem)\n",
        "\n",
        "# Instancia o simulador de backend\n",
        "backend = Aer.get_backend('aer_simulator')\n",
        "\n",
        "# Uma única aplicação do Cost Hamiltonian e uma do Mixer Hamiltonian\n",
        "qaoa = QAOA(reps=1, quantum_instance=backend)\n",
        "\n",
        "initial_params = [0.5, 0.8]  # (gamma, beta) p=1 => 2 parâmetros\n",
        "qaoa_circ = qaoa.construct_circuit(parameter=initial_params, operator=op)\n",
        "\n",
        "my_circuit = qaoa_circ[0].decompose()  # para \"abrir\" as subrotinas\n",
        "print(my_circuit.draw(output='text'))  # ASCII\n",
        "my_circuit.draw(output='mpl')\n"
      ]
    },
    {
      "cell_type": "markdown",
      "metadata": {
        "id": "71lR9p29A2te"
      },
      "source": [
        "- As linhas q_0 e q_1 representam dois qubits (duas “partículas quânticas” ou duas “posições de bit quântico”)\n",
        "\n",
        "- Cada bloco desse circuito realiza uma transformação nesses qubits, podendo criar superposição (para explorar várias possibilidades ao mesmo tempo) ou introduzir correlações/entanglement (para “ligar” o comportamento entre os qubits)\n",
        "\n",
        "- A notação exp(i t XYZ...) é a forma “exponencial” de dizer que estamos girando (fazendo rotações) em torno de algum eixo (X, Y ou Z) ou envolvendo mais de um qubit (como ZZ)\n",
        "\n",
        "- A porta U2(0, π) que aparece no Qiskit é, na prática, equivalente à porta Hadamard (H)\n",
        "\n",
        "- Colocar um Hadamard em cada qubit (q_0 e q_1) faz com que cada um esteja em “superposição” (metade do tempo é 0, metade do tempo é 1). Isso permite que o circuito explore vários estados ao mesmo tempo\n",
        "\n",
        "Em poucas palavras, o circuito está:\n",
        "\n",
        "(1) Criando superposição,\n",
        "(2) Ajustando fases e criando correlações (para refletir o problema que se quer resolver),\n",
        "(3) Fazendo rotações que trocam estados, possibilitando que o sistema se “redistribua” até acharmos (via medições e ajustes de parâmetros) a melhor configuração de 0s e 1s."
      ]
    },
    {
      "cell_type": "markdown",
      "metadata": {
        "id": "vOLKc41WCDQh"
      },
      "source": [
        "## Adaptando o problema para um simulador quântico"
      ]
    },
    {
      "cell_type": "code",
      "execution_count": 5,
      "metadata": {
        "id": "9_Etj5DIf6EO"
      },
      "outputs": [],
      "source": [
        "from qiskit_optimization import QuadraticProgram\n",
        "from qiskit_optimization.algorithms import MinimumEigenOptimizer\n",
        "from qiskit.algorithms import QAOA\n",
        "from qiskit import Aer\n",
        "\n",
        "def optimize_portfolio(returns, correlations, budget, max_investments):\n",
        "    \"\"\"\n",
        "    Otimiza um portfólio de investimentos usando QAOA.\n",
        "\n",
        "    Parâmetros:\n",
        "        returns (dict): Retornos esperados das ações, e.g., {'A': 0.4, 'B': 0.55, 'C': 0.45}.\n",
        "        correlations (dict): Correlações entre pares de ações, e.g., {('B', 'C'): 0.2}.\n",
        "        budget (int): Número máximo de ações que podem ser escolhidas.\n",
        "        max_investments (int): Número máximo de investimentos simultâneos permitidos.\n",
        "\n",
        "    Retorna:\n",
        "        dict: Decisões de investimento otimizadas.\n",
        "    \"\"\"\n",
        "    # Criação do problema de otimização\n",
        "    qp = QuadraticProgram()\n",
        "\n",
        "    # Definir variáveis binárias para cada ativo\n",
        "    variables = {}\n",
        "    for stock in returns:\n",
        "        variables[stock] = qp.binary_var(name=f\"x_{stock}\")\n",
        "\n",
        "    # Definir a função objetivo (minimizar o custo -maximizar retorno- com penalização de risco)\n",
        "    qp.minimize(linear={f\"x_{k}\": -v for k, v in returns.items()}, quadratic={(f\"x_{k1}\", f\"x_{k2}\"): v for (k1, k2), v in correlations.items()})\n",
        "\n",
        "    # Adicionar restrições\n",
        "    # Restrição de orçamento (quantidade máxima de ações a serem escolhidas)\n",
        "    qp.linear_constraint({f\"x_{k}\": 1 for k in returns}, \"<=\", budget, \"budget_constraint\")\n",
        "\n",
        "    # Restrição de máximo de investimentos simultâneos\n",
        "    qp.linear_constraint({f\"x_{k}\": 1 for k in returns}, \"<=\", max_investments, \"max_investments_constraint\")\n",
        "\n",
        "    # Configurar o simulador quântico\n",
        "    backend = Aer.get_backend('aer_simulator')\n",
        "\n",
        "    # Configurar o QAOA com um callback para monitorar o progresso\n",
        "    def qaoa_callback(eval_count, parameters, mean, std):\n",
        "        print(f\"[QAOA] Iteração {eval_count}: Parâmetros: {parameters}, Média: {mean}, Desvio: {std}\")\n",
        "\n",
        "    # Configurar o QAOA\n",
        "    qaoa = QAOA(reps=1, quantum_instance=backend)\n",
        "    #qaoa = QAOA(reps=1, quantum_instance=backend, callback=qaoa_callback)\n",
        "    optimizer = MinimumEigenOptimizer(qaoa)\n",
        "\n",
        "    # Resolver o problema\n",
        "    result = optimizer.solve(qp)\n",
        "\n",
        "    # Retornar as decisões de investimento\n",
        "    return result.variables_dict\n"
      ]
    },
    {
      "cell_type": "code",
      "execution_count": 6,
      "metadata": {
        "colab": {
          "base_uri": "https://localhost:8080/"
        },
        "id": "ceJ1OagTipmD",
        "outputId": "654eca4c-b785-4578-eca8-3de90182c4b2"
      },
      "outputs": [
        {
          "name": "stdout",
          "output_type": "stream",
          "text": [
            "Solução encontrada: {'x_A': 0.0, 'x_B': 1.0, 'x_C': 1.0, 'x_D': 1.0}\n"
          ]
        }
      ],
      "source": [
        "# Exemplo de uso\n",
        "\n",
        "# Parâmetros do problema\n",
        "returns = {'A': 0.4, 'B': 0.55, 'C': 0.45, 'D': 0.6}  # retorno da ação: A = 40%\n",
        "correlations = {('B', 'C'): 0.2, ('A', 'D'): 0.3}\n",
        "budget = 3 # orçamento (quantidade máxima de ações a serem escolhidas)\n",
        "max_investments = 3 # máximo de investimentos simultâneos\n",
        "\n",
        "# Resolver o problema\n",
        "solution = optimize_portfolio(returns, correlations, budget, max_investments)\n",
        "\n",
        "# Exibir o resultado\n",
        "print(\"Solução encontrada:\", solution)"
      ]
    },
    {
      "cell_type": "markdown",
      "metadata": {
        "id": "WZagwzfNDGID"
      },
      "source": [
        "## Adaptando ao Problema da Loteria"
      ]
    },
    {
      "cell_type": "markdown",
      "metadata": {
        "id": "dzmdSgDSDmYm"
      },
      "source": [
        "### 1. Transformação do Problema\n",
        "\n",
        "- Em vez de ações, usamos números do sorteio como variáveis.\n",
        "\n",
        "- Os retornos esperados são representados pela frequência ou probabilidade de cada número ser sorteado com base no histórico.\n",
        "\n",
        "- As correlações podem representar a frequência com que dois números aparecem juntos nos sorteios anteriores.\n",
        "\n",
        "### 2. Função Objetivo\n",
        "\n",
        "- Maximizar a probabilidade de acerto com base na frequência dos números escolhidos, minimizando a redundância (ou seja, não escolher muitos números com alta correlação).\n",
        "\n",
        "### 3. Restrições\n",
        "\n",
        "- Escolher um número fixo de opções (por exemplo, 6 números para uma loteria).\n",
        "\n",
        "- Garantir a diversidade nos números escolhidos, evitando combinações altamente correlacionadas."
      ]
    },
    {
      "cell_type": "markdown",
      "metadata": {
        "id": "F9hTvvd1DJgI"
      },
      "source": [
        "## Importando os Dados"
      ]
    },
    {
      "cell_type": "markdown",
      "metadata": {
        "id": "uOSbJZ8GEiNm"
      },
      "source": [
        "O dataset \"Mega-Sena.xlsx\" pode ser importado de:\n",
        "\n",
        "https://loterias.caixa.gov.br/Paginas/Mega-Sena.aspx\n",
        "\n",
        "ao final da página.\n",
        "\n",
        "Faça o upload para o ambiente do Colab.\n"
      ]
    },
    {
      "cell_type": "code",
      "execution_count": 3,
      "metadata": {
        "colab": {
          "base_uri": "https://localhost:8080/",
          "height": 313
        },
        "id": "Tb3IV2HVEzVa",
        "outputId": "3b4b58ec-1322-43e1-b4d4-d9478003f520"
      },
      "outputs": [
        {
          "data": {
            "text/html": [
              "<div>\n",
              "<style scoped>\n",
              "    .dataframe tbody tr th:only-of-type {\n",
              "        vertical-align: middle;\n",
              "    }\n",
              "\n",
              "    .dataframe tbody tr th {\n",
              "        vertical-align: top;\n",
              "    }\n",
              "\n",
              "    .dataframe thead th {\n",
              "        text-align: right;\n",
              "    }\n",
              "</style>\n",
              "<table border=\"1\" class=\"dataframe\">\n",
              "  <thead>\n",
              "    <tr style=\"text-align: right;\">\n",
              "      <th></th>\n",
              "      <th>Concurso</th>\n",
              "      <th>Data do Sorteio</th>\n",
              "      <th>Bola1</th>\n",
              "      <th>Bola2</th>\n",
              "      <th>Bola3</th>\n",
              "      <th>Bola4</th>\n",
              "      <th>Bola5</th>\n",
              "      <th>Bola6</th>\n",
              "      <th>Ganhadores 6 acertos</th>\n",
              "      <th>Cidade / UF</th>\n",
              "      <th>Rateio 6 acertos</th>\n",
              "      <th>Ganhadores 5 acertos</th>\n",
              "      <th>Rateio 5 acertos</th>\n",
              "      <th>Ganhadores 4 acertos</th>\n",
              "      <th>Rateio 4 acertos</th>\n",
              "      <th>Acumulado 6 acertos</th>\n",
              "      <th>Arrecadação Total</th>\n",
              "      <th>Estimativa prêmio</th>\n",
              "      <th>Acumulado Sorteio Especial Mega da Virada</th>\n",
              "      <th>Observação</th>\n",
              "    </tr>\n",
              "  </thead>\n",
              "  <tbody>\n",
              "    <tr>\n",
              "      <th>0</th>\n",
              "      <td>1</td>\n",
              "      <td>11/03/1996</td>\n",
              "      <td>4</td>\n",
              "      <td>5</td>\n",
              "      <td>30</td>\n",
              "      <td>33</td>\n",
              "      <td>41</td>\n",
              "      <td>52</td>\n",
              "      <td>0</td>\n",
              "      <td>NaN</td>\n",
              "      <td>R$0,00</td>\n",
              "      <td>17</td>\n",
              "      <td>R$39.158,92</td>\n",
              "      <td>2016</td>\n",
              "      <td>R$330,21</td>\n",
              "      <td>R$1.714.650,23</td>\n",
              "      <td>R$0,00</td>\n",
              "      <td>R$0,00</td>\n",
              "      <td>R$0,00</td>\n",
              "      <td>NaN</td>\n",
              "    </tr>\n",
              "    <tr>\n",
              "      <th>1</th>\n",
              "      <td>2</td>\n",
              "      <td>18/03/1996</td>\n",
              "      <td>9</td>\n",
              "      <td>37</td>\n",
              "      <td>39</td>\n",
              "      <td>41</td>\n",
              "      <td>43</td>\n",
              "      <td>49</td>\n",
              "      <td>1</td>\n",
              "      <td>PR</td>\n",
              "      <td>R$2.307.162,23</td>\n",
              "      <td>65</td>\n",
              "      <td>R$14.424,02</td>\n",
              "      <td>4488</td>\n",
              "      <td>R$208,91</td>\n",
              "      <td>R$0,00</td>\n",
              "      <td>R$0,00</td>\n",
              "      <td>R$0,00</td>\n",
              "      <td>R$0,00</td>\n",
              "      <td>NaN</td>\n",
              "    </tr>\n",
              "    <tr>\n",
              "      <th>2</th>\n",
              "      <td>3</td>\n",
              "      <td>25/03/1996</td>\n",
              "      <td>10</td>\n",
              "      <td>11</td>\n",
              "      <td>29</td>\n",
              "      <td>30</td>\n",
              "      <td>36</td>\n",
              "      <td>47</td>\n",
              "      <td>2</td>\n",
              "      <td>RN; SP</td>\n",
              "      <td>R$391.192,51</td>\n",
              "      <td>62</td>\n",
              "      <td>R$10.515,93</td>\n",
              "      <td>4261</td>\n",
              "      <td>R$153,01</td>\n",
              "      <td>R$0,00</td>\n",
              "      <td>R$0,00</td>\n",
              "      <td>R$0,00</td>\n",
              "      <td>R$0,00</td>\n",
              "      <td>NaN</td>\n",
              "    </tr>\n",
              "    <tr>\n",
              "      <th>3</th>\n",
              "      <td>4</td>\n",
              "      <td>01/04/1996</td>\n",
              "      <td>1</td>\n",
              "      <td>5</td>\n",
              "      <td>6</td>\n",
              "      <td>27</td>\n",
              "      <td>42</td>\n",
              "      <td>59</td>\n",
              "      <td>0</td>\n",
              "      <td>NaN</td>\n",
              "      <td>R$0,00</td>\n",
              "      <td>39</td>\n",
              "      <td>R$15.322,24</td>\n",
              "      <td>3311</td>\n",
              "      <td>R$180,48</td>\n",
              "      <td>R$717.080,75</td>\n",
              "      <td>R$0,00</td>\n",
              "      <td>R$0,00</td>\n",
              "      <td>R$0,00</td>\n",
              "      <td>NaN</td>\n",
              "    </tr>\n",
              "    <tr>\n",
              "      <th>4</th>\n",
              "      <td>5</td>\n",
              "      <td>08/04/1996</td>\n",
              "      <td>1</td>\n",
              "      <td>2</td>\n",
              "      <td>6</td>\n",
              "      <td>16</td>\n",
              "      <td>19</td>\n",
              "      <td>46</td>\n",
              "      <td>0</td>\n",
              "      <td>NaN</td>\n",
              "      <td>R$0,00</td>\n",
              "      <td>98</td>\n",
              "      <td>R$5.318,10</td>\n",
              "      <td>5399</td>\n",
              "      <td>R$96,53</td>\n",
              "      <td>R$1.342.488,85</td>\n",
              "      <td>R$0,00</td>\n",
              "      <td>R$0,00</td>\n",
              "      <td>R$0,00</td>\n",
              "      <td>NaN</td>\n",
              "    </tr>\n",
              "  </tbody>\n",
              "</table>\n",
              "</div>"
            ],
            "text/plain": [
              "   Concurso Data do Sorteio  Bola1  Bola2  Bola3  Bola4  Bola5  Bola6  \\\n",
              "0         1      11/03/1996      4      5     30     33     41     52   \n",
              "1         2      18/03/1996      9     37     39     41     43     49   \n",
              "2         3      25/03/1996     10     11     29     30     36     47   \n",
              "3         4      01/04/1996      1      5      6     27     42     59   \n",
              "4         5      08/04/1996      1      2      6     16     19     46   \n",
              "\n",
              "   Ganhadores 6 acertos Cidade / UF Rateio 6 acertos  Ganhadores 5 acertos  \\\n",
              "0                     0         NaN           R$0,00                    17   \n",
              "1                     1          PR   R$2.307.162,23                    65   \n",
              "2                     2      RN; SP     R$391.192,51                    62   \n",
              "3                     0         NaN           R$0,00                    39   \n",
              "4                     0         NaN           R$0,00                    98   \n",
              "\n",
              "  Rateio 5 acertos  Ganhadores 4 acertos Rateio 4 acertos Acumulado 6 acertos  \\\n",
              "0      R$39.158,92                  2016         R$330,21      R$1.714.650,23   \n",
              "1      R$14.424,02                  4488         R$208,91              R$0,00   \n",
              "2      R$10.515,93                  4261         R$153,01              R$0,00   \n",
              "3      R$15.322,24                  3311         R$180,48        R$717.080,75   \n",
              "4       R$5.318,10                  5399          R$96,53      R$1.342.488,85   \n",
              "\n",
              "  Arrecadação Total Estimativa prêmio  \\\n",
              "0            R$0,00            R$0,00   \n",
              "1            R$0,00            R$0,00   \n",
              "2            R$0,00            R$0,00   \n",
              "3            R$0,00            R$0,00   \n",
              "4            R$0,00            R$0,00   \n",
              "\n",
              "  Acumulado Sorteio Especial Mega da Virada Observação  \n",
              "0                                    R$0,00        NaN  \n",
              "1                                    R$0,00        NaN  \n",
              "2                                    R$0,00        NaN  \n",
              "3                                    R$0,00        NaN  \n",
              "4                                    R$0,00        NaN  "
            ]
          },
          "execution_count": 3,
          "metadata": {},
          "output_type": "execute_result"
        }
      ],
      "source": [
        "import pandas as pd\n",
        "\n",
        "df_mega_sena = pd.read_excel('Mega-Sena.xlsx')\n",
        "df_mega_sena.head()"
      ]
    },
    {
      "cell_type": "code",
      "execution_count": 4,
      "metadata": {
        "colab": {
          "base_uri": "https://localhost:8080/",
          "height": 206
        },
        "id": "xJKSn2GzE3pq",
        "outputId": "cd687d4a-a068-4400-a1b5-d9acdac148fe"
      },
      "outputs": [
        {
          "data": {
            "text/html": [
              "<div>\n",
              "<style scoped>\n",
              "    .dataframe tbody tr th:only-of-type {\n",
              "        vertical-align: middle;\n",
              "    }\n",
              "\n",
              "    .dataframe tbody tr th {\n",
              "        vertical-align: top;\n",
              "    }\n",
              "\n",
              "    .dataframe thead th {\n",
              "        text-align: right;\n",
              "    }\n",
              "</style>\n",
              "<table border=\"1\" class=\"dataframe\">\n",
              "  <thead>\n",
              "    <tr style=\"text-align: right;\">\n",
              "      <th></th>\n",
              "      <th>Concurso</th>\n",
              "      <th>Bola1</th>\n",
              "      <th>Bola2</th>\n",
              "      <th>Bola3</th>\n",
              "      <th>Bola4</th>\n",
              "      <th>Bola5</th>\n",
              "      <th>Bola6</th>\n",
              "    </tr>\n",
              "  </thead>\n",
              "  <tbody>\n",
              "    <tr>\n",
              "      <th>0</th>\n",
              "      <td>1</td>\n",
              "      <td>4</td>\n",
              "      <td>5</td>\n",
              "      <td>30</td>\n",
              "      <td>33</td>\n",
              "      <td>41</td>\n",
              "      <td>52</td>\n",
              "    </tr>\n",
              "    <tr>\n",
              "      <th>1</th>\n",
              "      <td>2</td>\n",
              "      <td>9</td>\n",
              "      <td>37</td>\n",
              "      <td>39</td>\n",
              "      <td>41</td>\n",
              "      <td>43</td>\n",
              "      <td>49</td>\n",
              "    </tr>\n",
              "    <tr>\n",
              "      <th>2</th>\n",
              "      <td>3</td>\n",
              "      <td>10</td>\n",
              "      <td>11</td>\n",
              "      <td>29</td>\n",
              "      <td>30</td>\n",
              "      <td>36</td>\n",
              "      <td>47</td>\n",
              "    </tr>\n",
              "    <tr>\n",
              "      <th>3</th>\n",
              "      <td>4</td>\n",
              "      <td>1</td>\n",
              "      <td>5</td>\n",
              "      <td>6</td>\n",
              "      <td>27</td>\n",
              "      <td>42</td>\n",
              "      <td>59</td>\n",
              "    </tr>\n",
              "    <tr>\n",
              "      <th>4</th>\n",
              "      <td>5</td>\n",
              "      <td>1</td>\n",
              "      <td>2</td>\n",
              "      <td>6</td>\n",
              "      <td>16</td>\n",
              "      <td>19</td>\n",
              "      <td>46</td>\n",
              "    </tr>\n",
              "  </tbody>\n",
              "</table>\n",
              "</div>"
            ],
            "text/plain": [
              "   Concurso  Bola1  Bola2  Bola3  Bola4  Bola5  Bola6\n",
              "0         1      4      5     30     33     41     52\n",
              "1         2      9     37     39     41     43     49\n",
              "2         3     10     11     29     30     36     47\n",
              "3         4      1      5      6     27     42     59\n",
              "4         5      1      2      6     16     19     46"
            ]
          },
          "execution_count": 4,
          "metadata": {},
          "output_type": "execute_result"
        }
      ],
      "source": [
        "df_mega_sena = df_mega_sena[['Concurso', 'Bola1', 'Bola2', 'Bola3', 'Bola4', 'Bola5', 'Bola6']]\n",
        "df_mega_sena.head()"
      ]
    },
    {
      "cell_type": "markdown",
      "metadata": {
        "id": "eIculDN0E-oC"
      },
      "source": [
        "## Implementando o algoritmo"
      ]
    },
    {
      "cell_type": "code",
      "execution_count": 9,
      "metadata": {
        "id": "Hk5JqgPRq2It"
      },
      "outputs": [],
      "source": [
        "from qiskit_optimization import QuadraticProgram\n",
        "from qiskit_optimization.algorithms import MinimumEigenOptimizer\n",
        "from qiskit.algorithms import QAOA\n",
        "from qiskit import Aer\n",
        "import pandas as pd\n",
        "import itertools\n",
        "\n",
        "def calculate_frequencies_and_correlations(df):\n",
        "    \"\"\"\n",
        "    Calcula as frequências e correlações de números de loteria a partir de um dataframe.\n",
        "\n",
        "    Parâmetros:\n",
        "        df (pd.DataFrame): Dataframe contendo os resultados dos concursos.\n",
        "\n",
        "    Retorna:\n",
        "        tuple: (frequências, correlações), ambos como dicionários.\n",
        "    \"\"\"\n",
        "    # Lista de todas as bolas sorteadas em todos os concursos\n",
        "    all_numbers = df.iloc[:, 1:].values.flatten()\n",
        "\n",
        "    # Frequências: contagem de cada número\n",
        "    frequencies = pd.Series(all_numbers).value_counts(normalize=True).to_dict()\n",
        "\n",
        "    # Correlações: frequência de pares de números\n",
        "    num_contests = len(df)\n",
        "    pairs = itertools.combinations(range(1, 61), 2)  # Pares de números possíveis (1 a 60)\n",
        "    correlations = {}\n",
        "\n",
        "    for pair in pairs:\n",
        "        # Contar concursos onde ambos os números aparecem\n",
        "        count = df.apply(lambda row: pair[0] in row.values and pair[1] in row.values, axis=1).sum()\n",
        "        correlations[pair] = count / num_contests  # Frequência conjunta normalizada\n",
        "\n",
        "    return frequencies, correlations\n",
        "\n",
        "def optimize_lottery(numbers_frequency, numbers_correlation, picks):\n",
        "    \"\"\"\n",
        "    Otimiza a escolha de números para um sorteio baseado em um histórico de resultados.\n",
        "\n",
        "    Parâmetros:\n",
        "        numbers_frequency (dict): Frequência de cada número no histórico, e.g., {1: 0.1, 2: 0.2, ..., 60: 0.05}.\n",
        "        numbers_correlation (dict): Correlações entre números, e.g., {(1, 2): 0.05, (3, 4): 0.03}.\n",
        "        picks (int): Quantidade de números a escolher.\n",
        "\n",
        "    Retorna:\n",
        "        dict: Números sugeridos para o sorteio.\n",
        "    \"\"\"\n",
        "    # Criação do problema de otimização\n",
        "    qp = QuadraticProgram()\n",
        "\n",
        "    # Definir variáveis binárias para cada número\n",
        "    variables = {}\n",
        "    for number in numbers_frequency:\n",
        "        variables[number] = qp.binary_var(name=f\"x_{number}\")\n",
        "\n",
        "    # Definir a função objetivo (maximizar a frequência e penalizar correlações altas)\n",
        "    qp.maximize(\n",
        "        linear={f\"x_{k}\": v for k, v in numbers_frequency.items()},\n",
        "        quadratic={(f\"x_{k1}\", f\"x_{k2}\"): -v for (k1, k2), v in numbers_correlation.items()},\n",
        "    )\n",
        "\n",
        "    # Restrição de quantidade de números a serem escolhidos\n",
        "    qp.linear_constraint({f\"x_{k}\": 1 for k in numbers_frequency}, \"==\", picks, \"picks_constraint\")\n",
        "\n",
        "    # Configurar o simulador quântico\n",
        "    backend = Aer.get_backend('aer_simulator')\n",
        "\n",
        "    # Configurar o QAOA\n",
        "    qaoa = QAOA(reps=1, quantum_instance=backend)\n",
        "    optimizer = MinimumEigenOptimizer(qaoa)\n",
        "\n",
        "    # Resolver o problema\n",
        "    result = optimizer.solve(qp)\n",
        "\n",
        "    # Retornar os números escolhidos\n",
        "    return [int(var.split('_')[1]) for var, value in result.variables_dict.items() if value == 1]"
      ]
    },
    {
      "cell_type": "code",
      "execution_count": 10,
      "metadata": {
        "id": "qJC9bUu9EB6F"
      },
      "outputs": [],
      "source": [
        "frequencies, correlations = calculate_frequencies_and_correlations(df_mega_sena)"
      ]
    },
    {
      "cell_type": "code",
      "execution_count": null,
      "metadata": {
        "id": "A7sw2pARFiId"
      },
      "outputs": [],
      "source": [
        "picks = 6  # Quantidade de números a escolher\n",
        "solution = optimize_lottery(frequencies, correlations, picks)\n",
        "\n",
        "# Exibir os números sugeridos\n",
        "print(\"Números sugeridos para o sorteio:\", solution)"
      ]
    },
    {
      "cell_type": "markdown",
      "metadata": {},
      "source": [
        "# Abordagens Clássicas"
      ]
    },
    {
      "cell_type": "markdown",
      "metadata": {},
      "source": [
        "A seguir está um exemplo de versão clássica (inteiramente em CPU, sem uso de algoritmos quânticos) para resolver o mesmo problema de seleção de números de loteria de maneira aproximada, utilizando apenas bibliotecas como numpy e scipy."
      ]
    },
    {
      "cell_type": "markdown",
      "metadata": {},
      "source": [
        "## 1- Abordagem heurística com Recozimento Simulado (Simulated Annealing)"
      ]
    },
    {
      "cell_type": "markdown",
      "metadata": {},
      "source": [
        "Esse é um método clássico de busca local que tenta escapar de mínimos locais por meio de pequenas “perturbações” aleatórias na solução e um parâmetro de “temperatura” que vai resfriando ao longo das iterações. Apesar de não garantir a solução ótima global, muitas vezes encontra soluções boas em prazos razoáveis.\n",
        "\n",
        "- O Simulated Annealing não garante ótimo global, mas costuma encontrar boas soluções.\n",
        "\n",
        "- A cada iteração, realizamos exatamente um movimento na vizinhança (retirar um número selecionado e adicionar um número que não estava selecionado).\n",
        "\n",
        "- Você pode incrementar a heurística, por exemplo, aplicando reinícios aleatórios ou guardando mais de uma “melhor solução” para evitar ficar preso em mínimos locais."
      ]
    },
    {
      "cell_type": "code",
      "execution_count": 1,
      "metadata": {},
      "outputs": [],
      "source": [
        "import numpy as np\n",
        "import pandas as pd\n",
        "import itertools\n",
        "import random\n",
        "\n",
        "def calculate_frequencies_and_correlations(df):\n",
        "    \"\"\"\n",
        "    Calcula as frequências e correlações de números de loteria a partir de um dataframe.\n",
        "\n",
        "    Parâmetros:\n",
        "        df (pd.DataFrame): Dataframe contendo os resultados dos concursos.\n",
        "\n",
        "    Retorna:\n",
        "        tuple: (frequências, correlações), ambos como dicionários.\n",
        "    \"\"\"\n",
        "    # Lista de todas as bolas sorteadas em todos os concursos\n",
        "    all_numbers = df.iloc[:, 1:].values.flatten()\n",
        "\n",
        "    # Frequências: contagem de cada número\n",
        "    frequencies = pd.Series(all_numbers).value_counts(normalize=True).to_dict()\n",
        "\n",
        "    # Correlações: frequência de pares de números\n",
        "    num_contests = len(df)\n",
        "    pairs = itertools.combinations(range(1, 61), 2)  # Pares de números possíveis (1 a 60)\n",
        "    correlations = {}\n",
        "\n",
        "    for pair in pairs:\n",
        "        count = df.apply(lambda row: pair[0] in row.values and pair[1] in row.values, axis=1).sum()\n",
        "        correlations[pair] = count / num_contests  # Frequência conjunta normalizada\n",
        "\n",
        "    return frequencies, correlations\n",
        "\n",
        "def _build_arrays(numbers_frequency, numbers_correlation):\n",
        "    \"\"\"\n",
        "    Converte os dicionários de frequência e correlação em arrays numpy para facilitar o cálculo.\n",
        "    Retorna:\n",
        "        freq_array: shape (60,), freq_array[i] = frequência do número (i+1)\n",
        "        corr_matrix: shape (60,60), corr_matrix[i,j] = correlação entre (i+1) e (j+1)\n",
        "    \"\"\"\n",
        "    # Inicializa arrays\n",
        "    freq_array = np.zeros(60)\n",
        "    corr_matrix = np.zeros((60, 60))\n",
        "\n",
        "    # Preenche freq_array\n",
        "    for k, v in numbers_frequency.items():\n",
        "        freq_array[k-1] = v  # k vai de 1 a 60, índice do array vai de 0 a 59\n",
        "\n",
        "    # Preenche corr_matrix\n",
        "    for (k1, k2), v in numbers_correlation.items():\n",
        "        corr_matrix[k1-1, k2-1] = v\n",
        "        corr_matrix[k2-1, k1-1] = v  # matriz simétrica\n",
        "\n",
        "    return freq_array, corr_matrix\n",
        "\n",
        "def _objective(x, freq_array, corr_matrix):\n",
        "    \"\"\"\n",
        "    Calcula a função objetivo dada a solução binária x (array de 0/1).\n",
        "    f(x) = sum(freq[i] * x[i]) - sum_{i<j}(corr(i,j) * x[i] * x[j])\n",
        "    \"\"\"\n",
        "    # Parte linear\n",
        "    linear_term = np.dot(freq_array, x)\n",
        "\n",
        "    # Parte quadrática\n",
        "    # x.T * corr_matrix * x\n",
        "    quadratic_term = x @ corr_matrix @ x\n",
        "\n",
        "    return linear_term - quadratic_term\n",
        "\n",
        "def optimize_lottery_classical(numbers_frequency, numbers_correlation, picks,\n",
        "                               max_iterations=5000, initial_temp=1.0, cooling_rate=0.999):\n",
        "    \"\"\"\n",
        "    Otimiza a escolha de números para um sorteio baseado em um histórico de resultados,\n",
        "    usando Simulated Annealing clássico em CPU.\n",
        "\n",
        "    Parâmetros:\n",
        "        numbers_frequency (dict): Frequência de cada número no histórico, ex.: {1: 0.1, 2: 0.2, ..., 60: 0.05}.\n",
        "        numbers_correlation (dict): Correlações entre números, ex.: {(1, 2): 0.05, (3, 4): 0.03}.\n",
        "        picks (int): Quantidade de números a escolher.\n",
        "        max_iterations (int): Número máximo de iterações do SA.\n",
        "        initial_temp (float): Temperatura inicial do SA.\n",
        "        cooling_rate (float): Fator de decaimento da temperatura em cada iteração.\n",
        "\n",
        "    Retorna:\n",
        "        list: Lista com os números selecionados (inteiros de 1 a 60).\n",
        "    \"\"\"\n",
        "\n",
        "    # Converte para arrays\n",
        "    freq_array, corr_matrix = _build_arrays(numbers_frequency, numbers_correlation)\n",
        "\n",
        "    # Cria solução inicial aleatória (binária) com soma = picks\n",
        "    # Exemplo: sortear aleatoriamente \"picks\" índices de 0..59 para serem 1\n",
        "    current_solution = np.zeros(60, dtype=int)\n",
        "    chosen_indices = random.sample(range(60), picks)\n",
        "    current_solution[chosen_indices] = 1\n",
        "\n",
        "    current_obj = _objective(current_solution, freq_array, corr_matrix)\n",
        "\n",
        "    best_solution = current_solution.copy()\n",
        "    best_obj = current_obj\n",
        "\n",
        "    temperature = initial_temp\n",
        "\n",
        "    for it in range(max_iterations):\n",
        "        # Gera vizinho trocando 1 por 0 e 0 por 1\n",
        "        # 1) Escolhe um índice que está em 1 para virar 0\n",
        "        idx_1 = random.choice(np.where(current_solution == 1)[0])\n",
        "        # 2) Escolhe um índice que está em 0 para virar 1\n",
        "        idx_0 = random.choice(np.where(current_solution == 0)[0])\n",
        "\n",
        "        # Cria nova solução\n",
        "        new_solution = current_solution.copy()\n",
        "        new_solution[idx_1] = 0\n",
        "        new_solution[idx_0] = 1\n",
        "\n",
        "        # Avalia a função-objetivo\n",
        "        new_obj = _objective(new_solution, freq_array, corr_matrix)\n",
        "\n",
        "        # Delta de energia (o SA minimiza \"energia\", aqui maximizamos => inverter sinal)\n",
        "        delta_obj = new_obj - current_obj\n",
        "\n",
        "        # Critério de aceitação\n",
        "        if delta_obj > 0:\n",
        "            # Se melhorou, aceita\n",
        "            accept = True\n",
        "        else:\n",
        "            # Se piorou, aceita com probabilidade exp(delta/temperature)\n",
        "            # (note que delta_obj é negativo se piorou => prob < 1)\n",
        "            prob = np.exp(delta_obj / temperature)\n",
        "            accept = (random.random() < prob)\n",
        "\n",
        "        if accept:\n",
        "            current_solution = new_solution\n",
        "            current_obj = new_obj\n",
        "\n",
        "            # Atualiza melhor solução global\n",
        "            if current_obj > best_obj:\n",
        "                best_solution = current_solution\n",
        "                best_obj = current_obj\n",
        "\n",
        "        # Resfriamento\n",
        "        temperature *= cooling_rate\n",
        "\n",
        "    # Retorna os números escolhidos (onde x_i = 1)\n",
        "    chosen_numbers = [i+1 for i in range(60) if best_solution[i] == 1]\n",
        "    return chosen_numbers"
      ]
    },
    {
      "cell_type": "code",
      "execution_count": 17,
      "metadata": {},
      "outputs": [],
      "source": [
        "frequencies, correlations = calculate_frequencies_and_correlations(df_mega_sena)"
      ]
    },
    {
      "cell_type": "code",
      "execution_count": null,
      "metadata": {},
      "outputs": [
        {
          "name": "stdout",
          "output_type": "stream",
          "text": [
            "Solução clássica (heurística): [3, 21, 22, 39, 45, 55]\n"
          ]
        }
      ],
      "source": [
        "# Exemplo de uso\n",
        "\n",
        "picks = 6\n",
        "sol_classica = optimize_lottery_classical(frequencies, correlations, picks,\n",
        "                                          max_iterations=5000,\n",
        "                                          initial_temp=1.0,\n",
        "                                          cooling_rate=0.999)\n",
        "print(\"Solução clássica (heurística):\", sol_classica)\n"
      ]
    },
    {
      "cell_type": "markdown",
      "metadata": {},
      "source": [
        "## 2 - Versão “pseudo-quadrática”"
      ]
    },
    {
      "cell_type": "markdown",
      "metadata": {},
      "source": [
        "Abaixo segue uma aproximação linearizada, que não resolve exatamente o diretamente Mixed Integer Quadratic Programming (MIQP) inerente ao problema de otimização quadrática com variáveis binárias que é a modelagem de otimização de portifólio em si, pois trata-se de um caso de NP-difícil em sua formulação exata."
      ]
    },
    {
      "cell_type": "code",
      "execution_count": 14,
      "metadata": {},
      "outputs": [],
      "source": [
        "import numpy as np\n",
        "from scipy.optimize import linprog\n",
        "\n",
        "def optimize_lottery_with_correlation_pseudo(frequencies, correlations, picks):\n",
        "    \"\"\"\n",
        "    TENTATIVA de incluir correlações usando 'linprog', somando Q ao vetor linear (TRUQUE INCOMPLETO).\n",
        "    Atenção: isso não reflete exatamente o termo x_i x_j e não faz x_i ser binário.\n",
        "    \n",
        "    Parâmetros:\n",
        "        frequencies (dict): freq de cada número {1: 0.1, 2: 0.2, ...}\n",
        "        correlations (dict): {(i,j): corr_ij} \n",
        "        picks (int): quantidade de números a escolher\n",
        "    \n",
        "    Retorna:\n",
        "        list: lista de números (após \"arredondar\" a solução fracionária)\n",
        "    \"\"\"\n",
        "    # Lista ordenada dos números\n",
        "    all_numbers = sorted(frequencies.keys())  # [1..60]\n",
        "    n = len(all_numbers)\n",
        "    \n",
        "    # Montar vetor de \"custos\" c\n",
        "    # Minimizar: -sum freq[i]*x_i + penalidade \"aproximada\" por correlação\n",
        "    # Atenção: Q[i,j] é a correlação. Precisaríamos x_i x_j -> é quadrático.\n",
        "    # \"Truque\": somar np.sum(Q[i,:]) no c[i], mas não é rigoroso.\n",
        "    c = np.zeros(n)\n",
        "    \n",
        "    # Frequência\n",
        "    for i, num in enumerate(all_numbers):\n",
        "        c[i] = -frequencies[num]  # para maximizar freq, minimizamos o negativo\n",
        "    \n",
        "    # Matriz Q\n",
        "    Q = np.zeros((n, n))\n",
        "    for (i_num, j_num), corr_val in correlations.items():\n",
        "        i_idx = all_numbers.index(i_num)\n",
        "        j_idx = all_numbers.index(j_num)\n",
        "        Q[i_idx, j_idx] = corr_val\n",
        "        Q[j_idx, i_idx] = corr_val  # simétrico\n",
        "    \n",
        "    # \"Soma\" as correlações na diagonal do vetor c como se fosse linear\n",
        "    # (Não é correto para MIQP, mas faz algo \"na linha\" do exemplo de portfólio)\n",
        "    c += Q.sum(axis=1)\n",
        "    \n",
        "    # Restrições\n",
        "    # soma x_i = picks\n",
        "    A_eq = np.ones((1, n))\n",
        "    b_eq = [picks]\n",
        "    \n",
        "    bounds = [(0,1)] * n  # [0..1], mas não binário estrito\n",
        "    \n",
        "    # Resolver\n",
        "    res = linprog(c, A_eq=A_eq, b_eq=b_eq, bounds=bounds, method='highs')\n",
        "    if not res.success:\n",
        "        raise RuntimeError(\"linprog não convergiu.\")\n",
        "    \n",
        "    x_sol = res.x\n",
        "    \n",
        "    # Precisamos escolher picks inteiros\n",
        "    idx_sorted = np.argsort(-x_sol)\n",
        "    chosen = idx_sorted[:picks]\n",
        "    chosen_numbers = [all_numbers[i] for i in chosen]\n",
        "    return sorted(chosen_numbers)\n"
      ]
    },
    {
      "cell_type": "code",
      "execution_count": 21,
      "metadata": {},
      "outputs": [
        {
          "name": "stdout",
          "output_type": "stream",
          "text": [
            "Solução pseudo-correlação (incompleta): [9, 15, 18, 22, 26, 55]\n"
          ]
        }
      ],
      "source": [
        "# Exemplo de uso\n",
        "\n",
        "for _ in range(20):\n",
        "    i = random.randint(1, 60)\n",
        "    j = random.randint(1, 60)\n",
        "    if i < j:\n",
        "        correlations[(i, j)] = np.random.uniform(0, 0.5)\n",
        "\n",
        "picks = 6\n",
        "sol_pseudo = optimize_lottery_with_correlation_pseudo(frequencies, correlations, picks)\n",
        "print(\"Solução pseudo-correlação (incompleta):\", sol_pseudo)"
      ]
    }
  ],
  "metadata": {
    "colab": {
      "provenance": []
    },
    "kernelspec": {
      "display_name": "quantum_portifolio",
      "language": "python",
      "name": "python3"
    },
    "language_info": {
      "codemirror_mode": {
        "name": "ipython",
        "version": 3
      },
      "file_extension": ".py",
      "mimetype": "text/x-python",
      "name": "python",
      "nbconvert_exporter": "python",
      "pygments_lexer": "ipython3",
      "version": "3.10.12"
    }
  },
  "nbformat": 4,
  "nbformat_minor": 0
}
