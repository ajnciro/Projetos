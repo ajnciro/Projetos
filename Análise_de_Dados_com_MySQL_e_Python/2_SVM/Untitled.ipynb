{
 "cells": [
  {
   "cell_type": "code",
   "execution_count": 35,
   "metadata": {},
   "outputs": [],
   "source": [
    "import pandas as pd\n",
    "import numpy as np\n",
    "import matplotlib.pyplot as plt\n",
    "import seaborn as sns\n",
    "from sklearn.model_selection import train_test_split\n",
    "from sklearn.svm import SVC\n",
    "from sklearn.metrics import classification_report, confusion_matrix\n",
    "import sweetviz as sv\n",
    "\n",
    "%matplotlib inline\n",
    "folder = \"C:/Users/sucod/OneDrive/Lenovo/Documentos/Sql/\""
   ]
  },
  {
   "cell_type": "code",
   "execution_count": 16,
   "metadata": {},
   "outputs": [
    {
     "data": {
      "text/html": [
       "<div>\n",
       "<style scoped>\n",
       "    .dataframe tbody tr th:only-of-type {\n",
       "        vertical-align: middle;\n",
       "    }\n",
       "\n",
       "    .dataframe tbody tr th {\n",
       "        vertical-align: top;\n",
       "    }\n",
       "\n",
       "    .dataframe thead th {\n",
       "        text-align: right;\n",
       "    }\n",
       "</style>\n",
       "<table border=\"1\" class=\"dataframe\">\n",
       "  <thead>\n",
       "    <tr style=\"text-align: right;\">\n",
       "      <th></th>\n",
       "      <th>prodValor</th>\n",
       "      <th>prodVendas</th>\n",
       "      <th>prodCusto</th>\n",
       "      <th>prodCustoAcum</th>\n",
       "      <th>prodGanhoAcum</th>\n",
       "      <th>prodLucro</th>\n",
       "    </tr>\n",
       "  </thead>\n",
       "  <tbody>\n",
       "    <tr>\n",
       "      <th>0</th>\n",
       "      <td>49.74</td>\n",
       "      <td>460</td>\n",
       "      <td>35.03</td>\n",
       "      <td>15903.60</td>\n",
       "      <td>22880.4</td>\n",
       "      <td>6976.78</td>\n",
       "    </tr>\n",
       "    <tr>\n",
       "      <th>1</th>\n",
       "      <td>54.72</td>\n",
       "      <td>449</td>\n",
       "      <td>37.48</td>\n",
       "      <td>19377.20</td>\n",
       "      <td>24569.3</td>\n",
       "      <td>5192.12</td>\n",
       "    </tr>\n",
       "    <tr>\n",
       "      <th>2</th>\n",
       "      <td>70.33</td>\n",
       "      <td>258</td>\n",
       "      <td>45.67</td>\n",
       "      <td>14340.40</td>\n",
       "      <td>18145.1</td>\n",
       "      <td>3804.76</td>\n",
       "    </tr>\n",
       "    <tr>\n",
       "      <th>3</th>\n",
       "      <td>9.54</td>\n",
       "      <td>1054</td>\n",
       "      <td>4.06</td>\n",
       "      <td>4340.14</td>\n",
       "      <td>10055.2</td>\n",
       "      <td>5715.02</td>\n",
       "    </tr>\n",
       "    <tr>\n",
       "      <th>4</th>\n",
       "      <td>43.40</td>\n",
       "      <td>519</td>\n",
       "      <td>31.68</td>\n",
       "      <td>16346.90</td>\n",
       "      <td>22524.6</td>\n",
       "      <td>6177.72</td>\n",
       "    </tr>\n",
       "  </tbody>\n",
       "</table>\n",
       "</div>"
      ],
      "text/plain": [
       "   prodValor  prodVendas  prodCusto  prodCustoAcum  prodGanhoAcum  prodLucro\n",
       "0      49.74         460      35.03       15903.60        22880.4    6976.78\n",
       "1      54.72         449      37.48       19377.20        24569.3    5192.12\n",
       "2      70.33         258      45.67       14340.40        18145.1    3804.76\n",
       "3       9.54        1054       4.06        4340.14        10055.2    5715.02\n",
       "4      43.40         519      31.68       16346.90        22524.6    6177.72"
      ]
     },
     "execution_count": 16,
     "metadata": {},
     "output_type": "execute_result"
    }
   ],
   "source": [
    "df_produto_1 = pd.read_csv(r\"C:\\\\Users\\\\sucod\\\\OneDrive\\\\Lenovo\\\\Documentos\\\\Projetos\\\\Projetos\\\\Análise de Dados com MySql e Python\\\\2_SVM\\\\CSVLojaSVM\\\\produto_svm.csv\")\n",
    "df_produto_1 = df_produto_1[['prodValor','prodVendas','prodCusto','prodCustoAcum','prodGanhoAcum','prodLucro']]\n",
    "df_produto_1.head()"
   ]
  },
  {
   "cell_type": "code",
   "execution_count": 17,
   "metadata": {},
   "outputs": [
    {
     "data": {
      "text/html": [
       "<div>\n",
       "<style scoped>\n",
       "    .dataframe tbody tr th:only-of-type {\n",
       "        vertical-align: middle;\n",
       "    }\n",
       "\n",
       "    .dataframe tbody tr th {\n",
       "        vertical-align: top;\n",
       "    }\n",
       "\n",
       "    .dataframe thead th {\n",
       "        text-align: right;\n",
       "    }\n",
       "</style>\n",
       "<table border=\"1\" class=\"dataframe\">\n",
       "  <thead>\n",
       "    <tr style=\"text-align: right;\">\n",
       "      <th></th>\n",
       "      <th>prodValor</th>\n",
       "      <th>prodVendas</th>\n",
       "      <th>prodCusto</th>\n",
       "      <th>prodCustoAcum</th>\n",
       "      <th>prodGanhoAcum</th>\n",
       "      <th>prodLucro</th>\n",
       "    </tr>\n",
       "  </thead>\n",
       "  <tbody>\n",
       "    <tr>\n",
       "      <th>0</th>\n",
       "      <td>63.75</td>\n",
       "      <td>255</td>\n",
       "      <td>35.03</td>\n",
       "      <td>4974.26</td>\n",
       "      <td>16256.2</td>\n",
       "      <td>11282.00</td>\n",
       "    </tr>\n",
       "    <tr>\n",
       "      <th>1</th>\n",
       "      <td>56.73</td>\n",
       "      <td>237</td>\n",
       "      <td>21.82</td>\n",
       "      <td>4582.20</td>\n",
       "      <td>13445.0</td>\n",
       "      <td>8862.81</td>\n",
       "    </tr>\n",
       "    <tr>\n",
       "      <th>2</th>\n",
       "      <td>40.26</td>\n",
       "      <td>435</td>\n",
       "      <td>12.20</td>\n",
       "      <td>4867.80</td>\n",
       "      <td>17513.1</td>\n",
       "      <td>12645.30</td>\n",
       "    </tr>\n",
       "    <tr>\n",
       "      <th>3</th>\n",
       "      <td>63.02</td>\n",
       "      <td>194</td>\n",
       "      <td>45.67</td>\n",
       "      <td>7672.56</td>\n",
       "      <td>12225.9</td>\n",
       "      <td>4553.32</td>\n",
       "    </tr>\n",
       "    <tr>\n",
       "      <th>4</th>\n",
       "      <td>49.16</td>\n",
       "      <td>323</td>\n",
       "      <td>26.01</td>\n",
       "      <td>7386.84</td>\n",
       "      <td>15878.7</td>\n",
       "      <td>8491.84</td>\n",
       "    </tr>\n",
       "  </tbody>\n",
       "</table>\n",
       "</div>"
      ],
      "text/plain": [
       "   prodValor  prodVendas  prodCusto  prodCustoAcum  prodGanhoAcum  prodLucro\n",
       "0      63.75         255      35.03        4974.26        16256.2   11282.00\n",
       "1      56.73         237      21.82        4582.20        13445.0    8862.81\n",
       "2      40.26         435      12.20        4867.80        17513.1   12645.30\n",
       "3      63.02         194      45.67        7672.56        12225.9    4553.32\n",
       "4      49.16         323      26.01        7386.84        15878.7    8491.84"
      ]
     },
     "execution_count": 17,
     "metadata": {},
     "output_type": "execute_result"
    }
   ],
   "source": [
    "df_produto_3 = pd.read_csv(r\"C:\\\\Users\\\\sucod\\\\OneDrive\\\\Lenovo\\\\Documentos\\\\Projetos\\\\Projetos\\\\Análise de Dados com MySql e Python\\\\2_SVM\\\\CSVLojaSVM3\\\\produto_svm3.csv\")\n",
    "df_produto_3 = df_produto_3[['prodValor','prodVendas','prodCusto','prodCustoAcum','prodGanhoAcum','prodLucro']]\n",
    "df_produto_3.head()"
   ]
  },
  {
   "cell_type": "code",
   "execution_count": 43,
   "metadata": {},
   "outputs": [
    {
     "data": {
      "application/vnd.jupyter.widget-view+json": {
       "model_id": "c4dde4e804bc4707bb1f1ab403358871",
       "version_major": 2,
       "version_minor": 0
      },
      "text/plain": [
       "HBox(children=(HTML(value=''), FloatProgress(value=0.0, layout=Layout(flex='2'), max=7.0), HTML(value='')), la…"
      ]
     },
     "metadata": {},
     "output_type": "display_data"
    },
    {
     "name": "stdout",
     "output_type": "stream",
     "text": [
      "\n",
      "Report Relatorio.html was generated! NOTEBOOK/COLAB USERS: the web browser MAY not pop up, regardless, the report IS saved in your notebook/colab files.\n"
     ]
    }
   ],
   "source": [
    "my_report = sv.compare([df_produto_1, 'SVM 1'], [df_produto_3,'SVM 3'])\n",
    "my_report.show_html(filepath='Relatorio.html', \n",
    "            open_browser=True, \n",
    "            layout='vertical')"
   ]
  },
  {
   "cell_type": "code",
   "execution_count": 46,
   "metadata": {},
   "outputs": [
    {
     "data": {
      "application/vnd.jupyter.widget-view+json": {
       "model_id": "433a46bd04a547319211c997cd2e18fc",
       "version_major": 2,
       "version_minor": 0
      },
      "text/plain": [
       "HBox(children=(HTML(value=''), FloatProgress(value=0.0, layout=Layout(flex='2'), max=7.0), HTML(value='')), la…"
      ]
     },
     "metadata": {},
     "output_type": "display_data"
    },
    {
     "name": "stdout",
     "output_type": "stream",
     "text": [
      "\n",
      "Report Relatorio.html was generated! NOTEBOOK/COLAB USERS: the web browser MAY not pop up, regardless, the report IS saved in your notebook/colab files.\n"
     ]
    }
   ],
   "source": [
    "my_report = sv.compare_intra(df_produto_1, df_produto_1[\"prodLucro\"] >5000, [\"Lucro\", \"Prejuízo\"])\n",
    "my_report.show_html(filepath='Relatorio.html', \n",
    "            open_browser=True, \n",
    "            layout='vertical')"
   ]
  },
  {
   "cell_type": "code",
   "execution_count": null,
   "metadata": {},
   "outputs": [],
   "source": []
  }
 ],
 "metadata": {
  "kernelspec": {
   "display_name": "Python 3",
   "language": "python",
   "name": "python3"
  },
  "language_info": {
   "codemirror_mode": {
    "name": "ipython",
    "version": 3
   },
   "file_extension": ".py",
   "mimetype": "text/x-python",
   "name": "python",
   "nbconvert_exporter": "python",
   "pygments_lexer": "ipython3",
   "version": "3.7.9"
  }
 },
 "nbformat": 4,
 "nbformat_minor": 4
}
